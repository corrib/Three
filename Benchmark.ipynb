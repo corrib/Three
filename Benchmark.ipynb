{
 "metadata": {
  "language": "Julia",
  "name": "Benchmark"
 },
 "nbformat": 3,
 "nbformat_minor": 0,
 "worksheets": [
  {
   "cells": [
    {
     "cell_type": "code",
     "collapsed": false,
     "input": "i = 1\ntotal = 0\n\nwhile i <= 10\n    n = 1000000\n    a = 1 / @elapsed x = rand(n)\n    b = 1 / @elapsed x + x\n    \n    time = a + b\n    @printf(\"%d. %1.12f\\n\", i, time)\n    \n    total += time\n    i += 1\nend\n\naverage = total/10\n@printf(\"\\nAVERAGE = %1.12f million operations per second for x+x\\n\", average)",
     "language": "python",
     "metadata": {},
     "outputs": [
      {
       "output_type": "stream",
       "stream": "stdout",
       "text": "1"
      },
      {
       "output_type": "stream",
       "stream": "stdout",
       "text": ". 152.705947071898\n"
      },
      {
       "output_type": "stream",
       "stream": "stdout",
       "text": "2. 100.115791307503\n3. 113.708530209792\n"
      },
      {
       "output_type": "stream",
       "stream": "stdout",
       "text": "4. 118.314132089348\n5. 107.587517050200\n"
      },
      {
       "output_type": "stream",
       "stream": "stdout",
       "text": "6. 114.794834826948\n7. 125.409698294577\n"
      },
      {
       "output_type": "stream",
       "stream": "stdout",
       "text": "8. 107.739528845485\n9. 194.711009754201\n"
      },
      {
       "output_type": "stream",
       "stream": "stdout",
       "text": "10. 134.136003824402\n\nAVERAGE = 126.922299327435 million operations per second for x+x\n"
      }
     ],
     "prompt_number": 71
    },
    {
     "cell_type": "code",
     "collapsed": false,
     "input": "i = 1\ntotal = 0\n\nwhile i <= 10\n    n = 1000000\n    a = 1 / @elapsed x = rand(n)\n    b = 1 / @elapsed sin(x)\n    \n    time = a + b\n    @printf(\"%d. %1.12f\\n\", i, time)\n    \n    total += time\n    i += 1\nend\n\naverage = total/10\n@printf(\"\\nAVERAGE = %1.12f million operations per second for sin(x)\\n\", average)",
     "language": "python",
     "metadata": {},
     "outputs": [
      {
       "output_type": "stream",
       "stream": "stdout",
       "text": "1"
      },
      {
       "output_type": "stream",
       "stream": "stdout",
       "text": ". 92.339979024253\n"
      },
      {
       "output_type": "stream",
       "stream": "stdout",
       "text": "2. 103.433279968942\n3. 86.565661339065\n"
      },
      {
       "output_type": "stream",
       "stream": "stdout",
       "text": "4. 87.225895473362\n5. 111.039915682020\n"
      },
      {
       "output_type": "stream",
       "stream": "stdout",
       "text": "6. 113.328766042324\n7. 116.676967773492\n"
      },
      {
       "output_type": "stream",
       "stream": "stdout",
       "text": "8. 78.917630616731\n9. 110.834433753018\n"
      },
      {
       "output_type": "stream",
       "stream": "stdout",
       "text": "10. 96.269069057907\n\nAVERAGE = 99.663159873111 million operations per second for sin(x)\n"
      }
     ],
     "prompt_number": 70
    },
    {
     "cell_type": "code",
     "collapsed": false,
     "input": "i = 1\ntotal = 0\n\nwhile i <= 10\n    n = 1000000\n    a = 1 / @elapsed x = rand(n)\n    b = 1 / @elapsed log2(x)\n    \n    time = a + b\n    @printf(\"%d. %1.12f\\n\", i, time)\n    \n    total += time\n    i += 1\nend\n\naverage = total/10\n@printf(\"\\nAVERAGE = %1.12f million operations per second for log2(x)\\n\", average)",
     "language": "python",
     "metadata": {},
     "outputs": [
      {
       "output_type": "stream",
       "stream": "stdout",
       "text": "1"
      },
      {
       "output_type": "stream",
       "stream": "stdout",
       "text": ". 63.590427817689\n"
      },
      {
       "output_type": "stream",
       "stream": "stdout",
       "text": "2. 75.872895202250\n"
      },
      {
       "output_type": "stream",
       "stream": "stdout",
       "text": "3. 73.118372936793\n"
      },
      {
       "output_type": "stream",
       "stream": "stdout",
       "text": "4. 90.402627614822\n"
      },
      {
       "output_type": "stream",
       "stream": "stdout",
       "text": "5. 107.348947654447\n"
      },
      {
       "output_type": "stream",
       "stream": "stdout",
       "text": "6. 67.478438769013\n"
      },
      {
       "output_type": "stream",
       "stream": "stdout",
       "text": "7. 45.955790186672\n"
      },
      {
       "output_type": "stream",
       "stream": "stdout",
       "text": "8. 96.337327579822\n"
      },
      {
       "output_type": "stream",
       "stream": "stdout",
       "text": "9. 100.303195488412\n"
      },
      {
       "output_type": "stream",
       "stream": "stdout",
       "text": "10. 103.475314507681\n\nAVERAGE = 82.388333775760 million operations per second for log2(x)\n"
      }
     ],
     "prompt_number": 72
    },
    {
     "cell_type": "code",
     "collapsed": false,
     "input": "function comp(n)\n    r = 0.05\n    a = 100\n    a = a*(e^(n*(log(1+r/n))))\nend\n\ni = 1\ntotal = 0\n\nwhile i <= 10\n    n = 1000000\n    a = 1 / @elapsed x = rand(n)\n    b = 1 / @elapsed comp(4)\n    \n    time = a + b\n    @printf(\"%d. %1.12f\\n\", i, time)\n    \n    total += time\n    i += 1\nend\n\naverage = total/10\n@printf(\"\\nAVERAGE = %1.12f million operations per second for 100*(e^(4*(log(1+.05/4))))\\n\", average)",
     "language": "python",
     "metadata": {},
     "outputs": [
      {
       "output_type": "stream",
       "stream": "stdout",
       "text": "1"
      },
      {
       "output_type": "stream",
       "stream": "stdout",
       "text": ". 203057.657805475523\n2. 71.441011631145\n3. 187418.089839598950\n"
      },
      {
       "output_type": "stream",
       "stream": "stdout",
       "text": "4. 221506.360354765289\n5. 174040.631911698380\n6. 81.365180770892\n"
      },
      {
       "output_type": "stream",
       "stream": "stdout",
       "text": "7. 221562.374358815810\n8. 221511.442182546976\n9. 221514.746727860504\n10. 80.969896721437\n"
      },
      {
       "output_type": "stream",
       "stream": "stdout",
       "text": "\nAVERAGE = 145084.507926988474 million operations per second for 100*(e^(4*(log(1+.05/4))))\n"
      }
     ],
     "prompt_number": 68
    },
    {
     "cell_type": "code",
     "collapsed": false,
     "input": "",
     "language": "python",
     "metadata": {},
     "outputs": []
    }
   ],
   "metadata": {}
  }
 ]
}